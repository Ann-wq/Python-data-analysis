{
  "nbformat": 4,
  "nbformat_minor": 0,
  "metadata": {
    "colab": {
      "name": "Moringa_Data_Science_Prep_W3_Independent_Project_2020_05_Ann_Mungai_PythonNotebook.ipynb",
      "provenance": [],
      "authorship_tag": "ABX9TyNI93DHcww5NxPdhf9N/1d3",
      "include_colab_link": true
    },
    "kernelspec": {
      "name": "python3",
      "display_name": "Python 3"
    }
  },
  "cells": [
    {
      "cell_type": "markdown",
      "metadata": {
        "id": "view-in-github",
        "colab_type": "text"
      },
      "source": [
        "<a href=\"https://colab.research.google.com/github/Ann-wq/Python-data-analysis/blob/master/Moringa_Data_Science_Prep_W3_Independent_Project_2020_05_Ann_Mungai_PythonNotebook.ipynb\" target=\"_parent\"><img src=\"https://colab.research.google.com/assets/colab-badge.svg\" alt=\"Open In Colab\"/></a>"
      ]
    },
    {
      "cell_type": "code",
      "metadata": {
        "id": "WTmefe-3o6Qy",
        "colab_type": "code",
        "colab": {}
      },
      "source": [
        "#importing the pandas library\n",
        "import pandas as pd\n",
        "#import the numpy library\n",
        "import numpy as np"
      ],
      "execution_count": 0,
      "outputs": []
    },
    {
      "cell_type": "code",
      "metadata": {
        "id": "-gFBISToqmVi",
        "colab_type": "code",
        "colab": {}
      },
      "source": [
        "#Loading the dataframes\n",
        "df = pd.read_csv('Telcom_dataset.csv', delimiter = ',')\n",
        "df"
      ],
      "execution_count": 0,
      "outputs": []
    },
    {
      "cell_type": "code",
      "metadata": {
        "id": "R82mUfR0tIpB",
        "colab_type": "code",
        "colab": {}
      },
      "source": [
        "df = pd.read_csv('Telcom_dataset2.csv', delimiter = ',')\n",
        "df"
      ],
      "execution_count": 0,
      "outputs": []
    },
    {
      "cell_type": "code",
      "metadata": {
        "id": "yYmhHtJbt7c8",
        "colab_type": "code",
        "colab": {}
      },
      "source": [
        "df = pd.read_csv('Telcom_dataset3.csv', delimiter = ',')\n",
        "df"
      ],
      "execution_count": 0,
      "outputs": []
    },
    {
      "cell_type": "code",
      "metadata": {
        "id": "AQY4HRxls1k5",
        "colab_type": "code",
        "colab": {}
      },
      "source": [
        "df = pd.read_csv('cells_geo.csv', delimiter = ',')\n",
        "df"
      ],
      "execution_count": 0,
      "outputs": []
    },
    {
      "cell_type": "code",
      "metadata": {
        "id": "m4_hAhQduGjS",
        "colab_type": "code",
        "colab": {}
      },
      "source": [
        "#importing the excel files\n",
        "df = pd.read_excel('cells_geo_description.xlsx')\n",
        "print (df)"
      ],
      "execution_count": 0,
      "outputs": []
    },
    {
      "cell_type": "code",
      "metadata": {
        "id": "7r9MsDMJtMs4",
        "colab_type": "code",
        "colab": {}
      },
      "source": [
        "df = pd.read_excel('CDR_description.xlsx')\n",
        "print (df)"
      ],
      "execution_count": 0,
      "outputs": []
    },
    {
      "cell_type": "code",
      "metadata": {
        "id": "GXeqSAqZtPR4",
        "colab_type": "code",
        "colab": {}
      },
      "source": [
        "with pd.ExcelFile('CDR_description.xlsx') as x:\n",
        "    sa = pd.read_excel(x, 'Sheet1')\n",
        "\n",
        "\n",
        "print(\"Sheet 1:\")\n",
        "print (sa)\n",
        "print(\"\")"
      ],
      "execution_count": 0,
      "outputs": []
    },
    {
      "cell_type": "code",
      "metadata": {
        "id": "SnScINukPJgT",
        "colab_type": "code",
        "colab": {}
      },
      "source": [
        "#To check any duplicates in the data frames\n",
        "df.duplicated()"
      ],
      "execution_count": 0,
      "outputs": []
    },
    {
      "cell_type": "code",
      "metadata": {
        "id": "M_w80WZmPKhw",
        "colab_type": "code",
        "colab": {}
      },
      "source": [
        "#shows the duplicates that are there\n",
        "df.drop_duplicates()"
      ],
      "execution_count": 0,
      "outputs": []
    },
    {
      "cell_type": "code",
      "metadata": {
        "id": "cKml82zYPKoG",
        "colab_type": "code",
        "colab": {}
      },
      "source": [
        "#Checking if there is any missing data \n",
        "df.isnull()"
      ],
      "execution_count": 0,
      "outputs": []
    },
    {
      "cell_type": "code",
      "metadata": {
        "id": "bl23ts95PKs4",
        "colab_type": "code",
        "colab": {}
      },
      "source": [
        "#dropping off the missing data\n",
        "df_no_missing = df.dropna()\n",
        "df_no_missing"
      ],
      "execution_count": 0,
      "outputs": []
    },
    {
      "cell_type": "code",
      "metadata": {
        "id": "tstQA4fxPK1j",
        "colab_type": "code",
        "colab": {}
      },
      "source": [
        "df_cleaned = df.dropna(how='all')\n",
        "df_cleaned"
      ],
      "execution_count": 0,
      "outputs": []
    },
    {
      "cell_type": "code",
      "metadata": {
        "id": "FOZeBYsGPK7D",
        "colab_type": "code",
        "colab": {}
      },
      "source": [
        "# Dropping the column if they only contain missing values\n",
        "df.dropna(axis=1, how='all')"
      ],
      "execution_count": 0,
      "outputs": []
    },
    {
      "cell_type": "code",
      "metadata": {
        "id": "n2UEL9kQH7F6",
        "colab_type": "code",
        "colab": {}
      },
      "source": [
        "#Description of the data set\n",
        "df.describe(include=np.object)"
      ],
      "execution_count": 0,
      "outputs": []
    },
    {
      "cell_type": "code",
      "metadata": {
        "id": "AKnSmi0MH7Vp",
        "colab_type": "code",
        "outputId": "4c812bb8-b383-4da7-a9e5-344b340fe9d2",
        "colab": {
          "base_uri": "https://localhost:8080/",
          "height": 85
        }
      },
      "source": [
        "#Counting the value of the products \n",
        "df[\"PRODUTC\"].value_counts()"
      ],
      "execution_count": 0,
      "outputs": [
        {
          "output_type": "execute_result",
          "data": {
            "text/plain": [
              "Voice    2219\n",
              "sms      1975\n",
              "data      807\n",
              "Name: PRODUTC, dtype: int64"
            ]
          },
          "metadata": {
            "tags": []
          },
          "execution_count": 26
        }
      ]
    },
    {
      "cell_type": "code",
      "metadata": {
        "id": "u75ua2GkH7jd",
        "colab_type": "code",
        "outputId": "4e48197d-6b15-4a53-e4de-2faf1716a17a",
        "colab": {
          "base_uri": "https://localhost:8080/",
          "height": 153
        }
      },
      "source": [
        "#count the number of cells on site in each category\n",
        "df[\"CELL_ON_SITE\"].value_counts()"
      ],
      "execution_count": 0,
      "outputs": [
        {
          "output_type": "execute_result",
          "data": {
            "text/plain": [
              "1    1252\n",
              "0    1160\n",
              "2    1089\n",
              "_     808\n",
              "4     251\n",
              "3     248\n",
              "5     193\n",
              "Name: CELL_ON_SITE, dtype: int64"
            ]
          },
          "metadata": {
            "tags": []
          },
          "execution_count": 27
        }
      ]
    },
    {
      "cell_type": "code",
      "metadata": {
        "id": "W7PtxmGVH7xp",
        "colab_type": "code",
        "outputId": "ed064537-6578-40ab-f9c8-e2c2dbc2f9f0",
        "colab": {
          "base_uri": "https://localhost:8080/",
          "height": 34
        }
      },
      "source": [
        "#Analyzing the products ie voice,sms and data were used most at a particular time\n",
        "df.loc[df[\"PRODUTC\"] == \"Voice\", \"DATETIME\"].max()"
      ],
      "execution_count": 0,
      "outputs": [
        {
          "output_type": "execute_result",
          "data": {
            "text/plain": [
              "'2012-05-07 00:01:54.0'"
            ]
          },
          "metadata": {
            "tags": []
          },
          "execution_count": 43
        }
      ]
    },
    {
      "cell_type": "code",
      "metadata": {
        "id": "4s01kxfFY7rq",
        "colab_type": "code",
        "outputId": "3842e5f0-6ff7-4f80-c44d-e663dc8ba8ab",
        "colab": {
          "base_uri": "https://localhost:8080/",
          "height": 34
        }
      },
      "source": [
        "#When sms was used most\n",
        "df.loc[df[\"PRODUTC\"] == \"sms\", \"DATETIME\"].max()"
      ],
      "execution_count": 0,
      "outputs": [
        {
          "output_type": "execute_result",
          "data": {
            "text/plain": [
              "'2012-05-07 00:01:54.0'"
            ]
          },
          "metadata": {
            "tags": []
          },
          "execution_count": 41
        }
      ]
    },
    {
      "cell_type": "code",
      "metadata": {
        "id": "6eZO2V8AaQ16",
        "colab_type": "code",
        "outputId": "163a1f88-9dbf-4416-9bbd-76f86ab970a7",
        "colab": {
          "base_uri": "https://localhost:8080/",
          "height": 34
        }
      },
      "source": [
        "#when data was used most\n",
        "df.loc[df[\"PRODUTC\"] == \"data\", \"DATETIME\"].max()"
      ],
      "execution_count": 0,
      "outputs": [
        {
          "output_type": "execute_result",
          "data": {
            "text/plain": [
              "'2012-05-07 00:01:53.0'"
            ]
          },
          "metadata": {
            "tags": []
          },
          "execution_count": 42
        }
      ]
    },
    {
      "cell_type": "code",
      "metadata": {
        "id": "RQXKuqMaaRAM",
        "colab_type": "code",
        "outputId": "b9948f06-8b76-42d5-a5aa-34b549d7a614",
        "colab": {
          "base_uri": "https://localhost:8080/",
          "height": 34
        }
      },
      "source": [
        "#Analyzing the products ie voice least at a particular time\n",
        "df.loc[df[\"PRODUTC\"] == \"Voice\", \"DATETIME\"].min()"
      ],
      "execution_count": 0,
      "outputs": [
        {
          "output_type": "execute_result",
          "data": {
            "text/plain": [
              "'2012-05-06 23:04:37.0'"
            ]
          },
          "metadata": {
            "tags": []
          },
          "execution_count": 44
        }
      ]
    },
    {
      "cell_type": "code",
      "metadata": {
        "id": "1iUWkcuhY8Sx",
        "colab_type": "code",
        "outputId": "a0749cee-bb4c-40c7-9281-0ef54c556c63",
        "colab": {
          "base_uri": "https://localhost:8080/",
          "height": 34
        }
      },
      "source": [
        "#Analyzing the products ie sms least at a particular time\n",
        "df.loc[df[\"PRODUTC\"] == \"sms\", \"DATETIME\"].min()"
      ],
      "execution_count": 0,
      "outputs": [
        {
          "output_type": "execute_result",
          "data": {
            "text/plain": [
              "'2012-05-06 23:05:25.0'"
            ]
          },
          "metadata": {
            "tags": []
          },
          "execution_count": 45
        }
      ]
    },
    {
      "cell_type": "code",
      "metadata": {
        "id": "pnYGZ-Wpaf2j",
        "colab_type": "code",
        "outputId": "04b90427-eb87-4263-b131-222bc04b0651",
        "colab": {
          "base_uri": "https://localhost:8080/",
          "height": 34
        }
      },
      "source": [
        "#Analyzing the products ie data least at a particular time\n",
        "df.loc[df[\"PRODUTC\"] == \"data\", \"DATETIME\"].min()"
      ],
      "execution_count": 0,
      "outputs": [
        {
          "output_type": "execute_result",
          "data": {
            "text/plain": [
              "'2012-05-06 23:07:26.0'"
            ]
          },
          "metadata": {
            "tags": []
          },
          "execution_count": 46
        }
      ]
    },
    {
      "cell_type": "code",
      "metadata": {
        "id": "V7Y3eJ7pc9eb",
        "colab_type": "code",
        "outputId": "8dd8d290-f7e0-4933-f911-0fba91764136",
        "colab": {
          "base_uri": "https://localhost:8080/",
          "height": 68
        }
      },
      "source": [
        "#This is to show the time when cell on site(1) was used most and least\n",
        "df.loc[df[\"CELL_ON_SITE\"] == \"1\", \"DATETIME\"].agg((\"min\", \"max\"))"
      ],
      "execution_count": 0,
      "outputs": [
        {
          "output_type": "execute_result",
          "data": {
            "text/plain": [
              "min    2012-05-06 23:04:37.0\n",
              "max    2012-05-07 00:01:54.0\n",
              "Name: DATETIME, dtype: object"
            ]
          },
          "metadata": {
            "tags": []
          },
          "execution_count": 57
        }
      ]
    },
    {
      "cell_type": "code",
      "metadata": {
        "id": "y2sK_EtKj2BC",
        "colab_type": "code",
        "outputId": "7c1c5e8b-e991-413c-c5c8-f0604221e67d",
        "colab": {
          "base_uri": "https://localhost:8080/",
          "height": 68
        }
      },
      "source": [
        "#This is to show the time when cell on site(0) was used most and least\n",
        "df.loc[df[\"CELL_ON_SITE\"] == \"0\", \"DATETIME\"].agg((\"min\", \"max\"))"
      ],
      "execution_count": 0,
      "outputs": [
        {
          "output_type": "execute_result",
          "data": {
            "text/plain": [
              "min    2012-05-06 23:05:25.0\n",
              "max    2012-05-07 00:01:54.0\n",
              "Name: DATETIME, dtype: object"
            ]
          },
          "metadata": {
            "tags": []
          },
          "execution_count": 62
        }
      ]
    },
    {
      "cell_type": "code",
      "metadata": {
        "id": "itHkYCjxj2VY",
        "colab_type": "code",
        "outputId": "9e68de08-1bf5-4d49-93f6-b1be26faaf54",
        "colab": {
          "base_uri": "https://localhost:8080/",
          "height": 68
        }
      },
      "source": [
        "#This is to show the time when cell on site(2) was used most and least\n",
        "df.loc[df[\"CELL_ON_SITE\"] == \"2\", \"DATETIME\"].agg((\"min\", \"max\"))"
      ],
      "execution_count": 0,
      "outputs": [
        {
          "output_type": "execute_result",
          "data": {
            "text/plain": [
              "min    2012-05-06 23:08:50.0\n",
              "max    2012-05-07 00:01:54.0\n",
              "Name: DATETIME, dtype: object"
            ]
          },
          "metadata": {
            "tags": []
          },
          "execution_count": 64
        }
      ]
    },
    {
      "cell_type": "code",
      "metadata": {
        "id": "Or3T9eMtj2iI",
        "colab_type": "code",
        "outputId": "e5e25b2a-9a05-415f-a7f2-2e41a79adb35",
        "colab": {
          "base_uri": "https://localhost:8080/",
          "height": 68
        }
      },
      "source": [
        "#This is to show the time when cell on site(3) was used most and least\n",
        "df.loc[df[\"CELL_ON_SITE\"] == \"3\", \"DATETIME\"].agg((\"min\", \"max\"))"
      ],
      "execution_count": 0,
      "outputs": [
        {
          "output_type": "execute_result",
          "data": {
            "text/plain": [
              "min    2012-05-06 23:15:44.0\n",
              "max    2012-05-07 00:01:53.0\n",
              "Name: DATETIME, dtype: object"
            ]
          },
          "metadata": {
            "tags": []
          },
          "execution_count": 65
        }
      ]
    },
    {
      "cell_type": "markdown",
      "metadata": {
        "id": "-RDy5xNlmeTV",
        "colab_type": "text"
      },
      "source": [
        ""
      ]
    },
    {
      "cell_type": "code",
      "metadata": {
        "id": "J3YlTzSTj2pf",
        "colab_type": "code",
        "outputId": "498d9777-9202-4716-cb10-0fe03d8b630e",
        "colab": {
          "base_uri": "https://localhost:8080/",
          "height": 68
        }
      },
      "source": [
        "#This is to show the time when cell on site(4) was used most and least\n",
        "df.loc[df[\"CELL_ON_SITE\"] == \"4\", \"DATETIME\"].agg((\"min\", \"max\"))"
      ],
      "execution_count": 0,
      "outputs": [
        {
          "output_type": "execute_result",
          "data": {
            "text/plain": [
              "min    2012-05-06 23:16:54.0\n",
              "max    2012-05-07 00:01:54.0\n",
              "Name: DATETIME, dtype: object"
            ]
          },
          "metadata": {
            "tags": []
          },
          "execution_count": 66
        }
      ]
    },
    {
      "cell_type": "code",
      "metadata": {
        "id": "KKb7irPFj2xf",
        "colab_type": "code",
        "colab": {}
      },
      "source": [
        "#This is to show the time when cell on site(5) was used most and least\n",
        "df.loc[df[\"CELL_ON_SITE\"] == \"5\", \"DATETIME\"].agg((\"min\", \"max\"))"
      ],
      "execution_count": 0,
      "outputs": []
    },
    {
      "cell_type": "code",
      "metadata": {
        "id": "F8tgt-qYNR36",
        "colab_type": "code",
        "outputId": "3179ee7e-7c41-45ca-dd5c-835d22b25489",
        "colab": {
          "base_uri": "https://localhost:8080/",
          "height": 68
        }
      },
      "source": [
        "#This is to show the site where cell on site(1) was used most and least\n",
        "df.loc[df[\"CELL_ON_SITE\"] == \"1\", \"SITE_ID\"].agg((\"min\", \"max\"))"
      ],
      "execution_count": 0,
      "outputs": [
        {
          "output_type": "execute_result",
          "data": {
            "text/plain": [
              "min    +38u2u/rfx\n",
              "max    fff5ac6e3f\n",
              "Name: SITE_ID, dtype: object"
            ]
          },
          "metadata": {
            "tags": []
          },
          "execution_count": 19
        }
      ]
    },
    {
      "cell_type": "code",
      "metadata": {
        "id": "okGnisotNSH8",
        "colab_type": "code",
        "outputId": "bfe8ef4c-a00f-4306-fb3a-c24d0026e6b0",
        "colab": {
          "base_uri": "https://localhost:8080/",
          "height": 68
        }
      },
      "source": [
        "#This is to show the site where cell on site(0) was used most and least\n",
        "df.loc[df[\"CELL_ON_SITE\"] == \"0\", \"SITE_ID\"].agg((\"min\", \"max\"))"
      ],
      "execution_count": 0,
      "outputs": [
        {
          "output_type": "execute_result",
          "data": {
            "text/plain": [
              "min    ++ctND+jGD\n",
              "max    ffa6bdc032\n",
              "Name: SITE_ID, dtype: object"
            ]
          },
          "metadata": {
            "tags": []
          },
          "execution_count": 20
        }
      ]
    },
    {
      "cell_type": "code",
      "metadata": {
        "id": "NzV3tZrZNSOW",
        "colab_type": "code",
        "outputId": "7d6e4cd0-4182-4afe-c927-8d31a5c8e5f3",
        "colab": {
          "base_uri": "https://localhost:8080/",
          "height": 68
        }
      },
      "source": [
        "#This is to show the site where cell on site(2) was used most and least\n",
        "df.loc[df[\"CELL_ON_SITE\"] == \"2\", \"SITE_ID\"].agg((\"min\", \"max\"))"
      ],
      "execution_count": 0,
      "outputs": [
        {
          "output_type": "execute_result",
          "data": {
            "text/plain": [
              "min    ++ctND+jGD\n",
              "max    fff5ac6e3f\n",
              "Name: SITE_ID, dtype: object"
            ]
          },
          "metadata": {
            "tags": []
          },
          "execution_count": 21
        }
      ]
    },
    {
      "cell_type": "code",
      "metadata": {
        "id": "cM3VJd-MNSQg",
        "colab_type": "code",
        "outputId": "349bf104-61f2-4797-afc3-0ac1f799c670",
        "colab": {
          "base_uri": "https://localhost:8080/",
          "height": 68
        }
      },
      "source": [
        "#This is to show the site where cell on site(4) was used most and least\n",
        "df.loc[df[\"CELL_ON_SITE\"] == \"4\", \"SITE_ID\"].agg((\"min\", \"max\"))"
      ],
      "execution_count": 0,
      "outputs": [
        {
          "output_type": "execute_result",
          "data": {
            "text/plain": [
              "min    +854AcBQT2\n",
              "max    fb35d6b5d3\n",
              "Name: SITE_ID, dtype: object"
            ]
          },
          "metadata": {
            "tags": []
          },
          "execution_count": 22
        }
      ]
    },
    {
      "cell_type": "code",
      "metadata": {
        "id": "C58vTd8RNSWW",
        "colab_type": "code",
        "outputId": "9a0e6c7d-81df-4225-af40-ffa9197fe0ec",
        "colab": {
          "base_uri": "https://localhost:8080/",
          "height": 68
        }
      },
      "source": [
        "#This is to show the site where cell on site(3) was used most and least\n",
        "df.loc[df[\"CELL_ON_SITE\"] == \"3\", \"SITE_ID\"].agg((\"min\", \"max\"))"
      ],
      "execution_count": 0,
      "outputs": [
        {
          "output_type": "execute_result",
          "data": {
            "text/plain": [
              "min    +38u2u/rfx\n",
              "max    fe32f3eba7\n",
              "Name: SITE_ID, dtype: object"
            ]
          },
          "metadata": {
            "tags": []
          },
          "execution_count": 23
        }
      ]
    },
    {
      "cell_type": "code",
      "metadata": {
        "id": "3Unv0ZHhNSch",
        "colab_type": "code",
        "outputId": "aceb3507-58f1-4ef8-f256-8317075a1cad",
        "colab": {
          "base_uri": "https://localhost:8080/",
          "height": 68
        }
      },
      "source": [
        "#This is to show the site where cell on site(5) was used most and least\n",
        "df.loc[df[\"CELL_ON_SITE\"] == \"5\", \"SITE_ID\"].agg((\"min\", \"max\"))"
      ],
      "execution_count": 0,
      "outputs": [
        {
          "output_type": "execute_result",
          "data": {
            "text/plain": [
              "min    +854AcBQT2\n",
              "max    fe31a370fe\n",
              "Name: SITE_ID, dtype: object"
            ]
          },
          "metadata": {
            "tags": []
          },
          "execution_count": 24
        }
      ]
    },
    {
      "cell_type": "code",
      "metadata": {
        "id": "qnfB6Z5zNSij",
        "colab_type": "code",
        "outputId": "de51b894-1185-4467-a428-f38232dd0a2b",
        "colab": {
          "base_uri": "https://localhost:8080/",
          "height": 68
        }
      },
      "source": [
        "#This is to show which site voice product was used the most and used least\n",
        "df = df[df.notnull().all(axis=1)]\n",
        "df.loc[df[\"PRODUTC\"] == \"Voice\", \"SITE_ID\"].agg((\"min\", \"max\"))"
      ],
      "execution_count": 0,
      "outputs": [
        {
          "output_type": "execute_result",
          "data": {
            "text/plain": [
              "min    ++ctND+jGD\n",
              "max    fff5ac6e3f\n",
              "Name: SITE_ID, dtype: object"
            ]
          },
          "metadata": {
            "tags": []
          },
          "execution_count": 51
        }
      ]
    },
    {
      "cell_type": "code",
      "metadata": {
        "id": "wAQ6eCCKNSmw",
        "colab_type": "code",
        "outputId": "a8af47b6-f768-4ff5-8fe3-5d4a946bba64",
        "colab": {
          "base_uri": "https://localhost:8080/",
          "height": 68
        }
      },
      "source": [
        "#This is to show which site sms was used the most and used least\n",
        "df.loc[df[\"PRODUTC\"] == \"sms\", \"SITE_ID\"].agg((\"min\", \"max\"))"
      ],
      "execution_count": 0,
      "outputs": [
        {
          "output_type": "execute_result",
          "data": {
            "text/plain": [
              "min    ++ctND+jGD\n",
              "max    ffa6bdc032\n",
              "Name: SITE_ID, dtype: object"
            ]
          },
          "metadata": {
            "tags": []
          },
          "execution_count": 42
        }
      ]
    },
    {
      "cell_type": "code",
      "metadata": {
        "id": "YYo9o29RNShF",
        "colab_type": "code",
        "outputId": "3d547773-4d1c-4230-ced1-fa72ac783e5a",
        "colab": {
          "base_uri": "https://localhost:8080/",
          "height": 68
        }
      },
      "source": [
        "#This is to show which site data was used the most and used least\n",
        "df = df[df.notnull().all(axis=1)]\n",
        "df.loc[df[\"PRODUTC\"] == \"data\", \"SITE_ID\"].agg((\"min\", \"max\"))"
      ],
      "execution_count": 0,
      "outputs": [
        {
          "output_type": "execute_result",
          "data": {
            "text/plain": [
              "min    +38u2u/rfx\n",
              "max    U+0xkwNeOT\n",
              "Name: SITE_ID, dtype: object"
            ]
          },
          "metadata": {
            "tags": []
          },
          "execution_count": 52
        }
      ]
    },
    {
      "cell_type": "code",
      "metadata": {
        "id": "fOY593kbNSbf",
        "colab_type": "code",
        "colab": {}
      },
      "source": [
        ""
      ],
      "execution_count": 0,
      "outputs": []
    },
    {
      "cell_type": "code",
      "metadata": {
        "id": "sm3R1N0_NSU2",
        "colab_type": "code",
        "colab": {}
      },
      "source": [
        ""
      ],
      "execution_count": 0,
      "outputs": []
    }
  ]
}